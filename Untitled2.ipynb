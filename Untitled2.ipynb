{
 "cells": [
  {
   "cell_type": "code",
   "execution_count": null,
   "id": "e1142a34",
   "metadata": {},
   "outputs": [],
   "source": [
    "def calculate(s):\n",
    "    lCount=0\n",
    "    uCount=0\n",
    "    for i in s:\n",
    "        order=ord(i)\n",
    "        if order>=65 and order<=95:\n",
    "            uCount+=1\n",
    "        elif order>=97 and order<=122:\n",
    "            lCount+=1\n",
    "        else:\n",
    "            continue\n",
    "    print(\"No. of Upper case characters :\",lCount)\n",
    "    "
   ]
  }
 ],
 "metadata": {
  "kernelspec": {
   "display_name": "Python 3",
   "language": "python",
   "name": "python3"
  },
  "language_info": {
   "codemirror_mode": {
    "name": "ipython",
    "version": 3
   },
   "file_extension": ".py",
   "mimetype": "text/x-python",
   "name": "python",
   "nbconvert_exporter": "python",
   "pygments_lexer": "ipython3",
   "version": "3.8.8"
  }
 },
 "nbformat": 4,
 "nbformat_minor": 5
}
