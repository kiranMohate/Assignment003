{
 "cells": [
  {
   "cell_type": "code",
   "execution_count": 1,
   "id": "54016da3",
   "metadata": {},
   "outputs": [
    {
     "name": "stdout",
     "output_type": "stream",
     "text": [
      "No. of Upper case characters : 3\n",
      "No. of lower case characters : 12\n"
     ]
    }
   ],
   "source": [
    "def calculate(s):\n",
    "    lCount=0\n",
    "    uCount=0\n",
    "    for i in s:\n",
    "        order=ord(i)\n",
    "        if order>=65 and order<=95:\n",
    "            uCount+=1\n",
    "        elif order>=97 and order<=122:\n",
    "            lCount+=1\n",
    "        else:\n",
    "            continue\n",
    "    print(\"No. of Upper case characters :\",uCount)\n",
    "    print(\"No. of lower case characters :\",lCount)\n",
    "calculate('The quick Brow Fox')"
   ]
  },
  {
   "cell_type": "code",
   "execution_count": null,
   "id": "fa90a4e8",
   "metadata": {},
   "outputs": [],
   "source": []
  }
 ],
 "metadata": {
  "kernelspec": {
   "display_name": "Python 3",
   "language": "python",
   "name": "python3"
  },
  "language_info": {
   "codemirror_mode": {
    "name": "ipython",
    "version": 3
   },
   "file_extension": ".py",
   "mimetype": "text/x-python",
   "name": "python",
   "nbconvert_exporter": "python",
   "pygments_lexer": "ipython3",
   "version": "3.8.8"
  }
 },
 "nbformat": 4,
 "nbformat_minor": 5
}
